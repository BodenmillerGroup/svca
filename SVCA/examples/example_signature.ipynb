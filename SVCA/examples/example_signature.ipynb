{
 "cells": [
  {
   "cell_type": "code",
   "execution_count": 1,
   "metadata": {},
   "outputs": [],
   "source": [
    "# importing packages\n",
    "from svca.util_functions import util_functions\n",
    "from svca.run import run_indiv\n",
    "import os"
   ]
  },
  {
   "cell_type": "code",
   "execution_count": 2,
   "metadata": {},
   "outputs": [],
   "source": [
    "# defining image directory, output directory \n",
    "image_dir = 'IMC_data/Cy1x7//'\n",
    "res_root = 'results/Cy1x7//'\n",
    "plot_dir = 'plots/Cy1x7/'\n",
    "\n",
    "# creating output directories\n",
    "res_dir = util_functions.make_dir(res_root+'/results/')  # this function prevents overwriting directories by incrementing the name if the directory already exists\n",
    "plot_dir = util_functions.make_dir(plot_dir)"
   ]
  },
  {
   "cell_type": "code",
   "execution_count": 5,
   "metadata": {},
   "outputs": [
    {
     "name": "stdout",
     "output_type": "stream",
     "text": [
      "Marginal likelihood optimization.\n",
      "('Converged:', True)\n",
      "Time elapsed: 1.63 s\n",
      "Log Marginal Likelihood: 142.7144925.\n",
      "Gradient norm: 0.0020775.\n",
      "Marginal likelihood optimization.\n",
      "('Converged:', True)\n",
      "Time elapsed: 0.79 s\n",
      "Log Marginal Likelihood: 142.2616395.\n",
      "Gradient norm: 0.0002852.\n",
      "Marginal likelihood optimization.\n",
      "('Converged:', True)\n",
      "Time elapsed: 1.52 s\n",
      "Log Marginal Likelihood: 136.7679531.\n",
      "Gradient norm: 0.0000854.\n",
      "Marginal likelihood optimization.\n",
      "('Converged:', True)\n",
      "Time elapsed: 0.53 s\n",
      "Log Marginal Likelihood: 132.1181054.\n",
      "Gradient norm: 0.0002554.\n",
      "Marginal likelihood optimization.\n",
      "('Converged:', True)\n",
      "Time elapsed: 0.52 s\n",
      "Log Marginal Likelihood: 126.3538385.\n",
      "Gradient norm: 0.0000437.\n",
      "Marginal likelihood optimization.\n",
      "Marginal likelihood optimization.\n",
      "('Converged:', True)\n",
      "Time elapsed: 0.80 s\n",
      "Log Marginal Likelihood: 124.6631103.\n",
      "Gradient norm: 0.0007803.\n",
      "Marginal likelihood optimization.\n",
      "('Converged:', True)\n",
      "Time elapsed: 0.47 s\n",
      "Log Marginal Likelihood: 124.9587649.\n",
      "Gradient norm: 0.0000663.\n",
      "Marginal likelihood optimization.\n",
      "('Converged:', True)\n",
      "Time elapsed: 0.59 s\n",
      "Log Marginal Likelihood: 125.7799804.\n",
      "Gradient norm: 0.0001886.\n",
      "Marginal likelihood optimization.\n",
      "('Converged:', True)\n",
      "Time elapsed: 0.52 s\n",
      "Log Marginal Likelihood: 129.0083832.\n",
      "Gradient norm: 0.0004468.\n",
      "Marginal likelihood optimization.\n",
      "('Converged:', True)\n",
      "Time elapsed: 2.37 s\n",
      "Log Marginal Likelihood: 149.9311578.\n",
      "Gradient norm: 0.0002726.\n",
      "Marginal likelihood optimization.\n",
      "('Converged:', True)\n",
      "Time elapsed: 0.76 s\n",
      "Log Marginal Likelihood: 150.0313291.\n",
      "Gradient norm: 0.0015428.\n",
      "Marginal likelihood optimization.\n",
      "('Converged:', True)\n",
      "Time elapsed: 1.49 s\n",
      "Log Marginal Likelihood: 141.2438446.\n",
      "Gradient norm: 0.0050450.\n",
      "Marginal likelihood optimization.\n",
      "('Converged:', True)\n",
      "Time elapsed: 0.38 s\n",
      "Log Marginal Likelihood: 130.5445754.\n",
      "Gradient norm: 0.0001532.\n",
      "Marginal likelihood optimization.\n",
      "('Converged:', True)\n",
      "Time elapsed: 0.57 s\n",
      "Log Marginal Likelihood: 117.9727279.\n",
      "Gradient norm: 0.0000727.\n",
      "Marginal likelihood optimization.\n",
      "Marginal likelihood optimization.\n",
      "('Converged:', True)\n",
      "Time elapsed: 0.34 s\n",
      "Log Marginal Likelihood: 116.2353267.\n",
      "Gradient norm: 0.0017319.\n",
      "Marginal likelihood optimization.\n",
      "('Converged:', True)\n",
      "Time elapsed: 0.38 s\n",
      "Log Marginal Likelihood: 121.8361723.\n",
      "Gradient norm: 0.0013660.\n",
      "Marginal likelihood optimization.\n",
      "('Converged:', True)\n",
      "Time elapsed: 1.63 s\n",
      "Log Marginal Likelihood: 129.3908571.\n",
      "Gradient norm: 0.0003102.\n",
      "Marginal likelihood optimization.\n",
      "('Converged:', True)\n",
      "Time elapsed: 0.49 s\n",
      "Log Marginal Likelihood: 136.6827656.\n",
      "Gradient norm: 0.0009079.\n",
      "Marginal likelihood optimization.\n"
     ]
    },
    {
     "name": "stderr",
     "output_type": "stream",
     "text": [
      "/Users/damienarnol1/anaconda/lib/python2.7/site-packages/numpy/lib/scimath.py:262: RuntimeWarning: divide by zero encountered in log\n",
      "  return nx.log(x)\n"
     ]
    },
    {
     "name": "stdout",
     "output_type": "stream",
     "text": [
      "('Converged:', True)\n",
      "Time elapsed: 2.63 s\n",
      "Log Marginal Likelihood: 142.5102377.\n",
      "Gradient norm: 0.0103813.\n",
      "Marginal likelihood optimization.\n",
      "('Converged:', True)\n",
      "Time elapsed: 1.12 s\n",
      "Log Marginal Likelihood: 138.1139490.\n",
      "Gradient norm: 0.0018872.\n",
      "Marginal likelihood optimization.\n",
      "('Converged:', True)\n",
      "Time elapsed: 0.80 s\n",
      "Log Marginal Likelihood: 114.9043751.\n",
      "Gradient norm: 0.0002718.\n",
      "Marginal likelihood optimization.\n",
      "('Converged:', True)\n",
      "Time elapsed: 0.35 s\n",
      "Log Marginal Likelihood: 94.6096367.\n",
      "Gradient norm: 0.0000008.\n",
      "Marginal likelihood optimization.\n"
     ]
    },
    {
     "name": "stderr",
     "output_type": "stream",
     "text": [
      "/Users/damienarnol1/Documents/local/pro/PhD/limix/limix/core/covar/sqexp.py:48: RuntimeWarning: overflow encountered in exp\n",
      "  return sp.exp(self.params[0])\n",
      "/Users/damienarnol1/Documents/local/pro/PhD/limix/limix/core/covar/zkz.py:228: RuntimeWarning: invalid value encountered in multiply\n",
      "  z -= np.eye(z.shape[0]) * z.diagonal()\n",
      "/Users/damienarnol1/Documents/local/pro/PhD/limix/limix/core/covar/zkz.py:228: RuntimeWarning: invalid value encountered in subtract\n",
      "  z -= np.eye(z.shape[0]) * z.diagonal()\n"
     ]
    },
    {
     "name": "stdout",
     "output_type": "stream",
     "text": [
      "Marginal likelihood optimization.\n",
      "('Converged:', True)\n",
      "Time elapsed: 0.20 s\n",
      "Log Marginal Likelihood: 78.0283038.\n",
      "Gradient norm: 0.0018525.\n",
      "Marginal likelihood optimization.\n",
      "('Converged:', True)\n",
      "Time elapsed: 0.27 s\n",
      "Log Marginal Likelihood: 95.3738194.\n",
      "Gradient norm: 0.0001749.\n",
      "Marginal likelihood optimization.\n",
      "('Converged:', True)\n",
      "Time elapsed: 0.25 s\n",
      "Log Marginal Likelihood: 107.1680407.\n",
      "Gradient norm: 0.0001180.\n",
      "Marginal likelihood optimization.\n",
      "('Converged:', True)\n",
      "Time elapsed: 0.56 s\n",
      "Log Marginal Likelihood: 116.1543979.\n",
      "Gradient norm: 0.0000443.\n",
      "Marginal likelihood optimization.\n",
      "('Converged:', True)\n",
      "Time elapsed: 0.70 s\n",
      "Log Marginal Likelihood: 136.4657178.\n",
      "Gradient norm: 0.0004750.\n",
      "Marginal likelihood optimization.\n",
      "('Converged:', True)\n",
      "Time elapsed: 1.34 s\n",
      "Log Marginal Likelihood: 142.2183759.\n",
      "Gradient norm: 0.0003248.\n",
      "Marginal likelihood optimization.\n",
      "('Converged:', True)\n",
      "Time elapsed: 1.05 s\n",
      "Log Marginal Likelihood: 139.0054539.\n",
      "Gradient norm: 0.0028779.\n",
      "Marginal likelihood optimization.\n",
      "('Converged:', True)\n",
      "Time elapsed: 1.52 s\n",
      "Log Marginal Likelihood: 129.0252718.\n",
      "Gradient norm: 0.0003187.\n",
      "Marginal likelihood optimization.\n",
      "('Converged:', True)\n",
      "Time elapsed: 0.37 s\n",
      "Log Marginal Likelihood: 119.3613451.\n",
      "Gradient norm: 0.0001036.\n",
      "Marginal likelihood optimization.\n",
      "Marginal likelihood optimization.\n",
      "Marginal likelihood optimization.\n",
      "('Converged:', True)\n",
      "Time elapsed: 0.60 s\n",
      "Log Marginal Likelihood: 123.0685591.\n",
      "Gradient norm: 0.0001300.\n",
      "Marginal likelihood optimization.\n",
      "('Converged:', True)\n",
      "Time elapsed: 0.34 s\n",
      "Log Marginal Likelihood: 128.3591287.\n",
      "Gradient norm: 0.0030493.\n",
      "Marginal likelihood optimization.\n",
      "('Converged:', True)\n",
      "Time elapsed: 0.60 s\n",
      "Log Marginal Likelihood: 135.3730127.\n",
      "Gradient norm: 0.0015240.\n",
      "Marginal likelihood optimization.\n",
      "('Converged:', True)\n",
      "Time elapsed: 0.48 s\n",
      "Log Marginal Likelihood: 138.9349131.\n",
      "Gradient norm: 0.0001909.\n",
      "Marginal likelihood optimization.\n",
      "('Converged:', True)\n",
      "Time elapsed: 2.18 s\n",
      "Log Marginal Likelihood: 137.8540264.\n",
      "Gradient norm: 0.0006678.\n",
      "Marginal likelihood optimization.\n",
      "('Converged:', True)\n",
      "Time elapsed: 1.26 s\n",
      "Log Marginal Likelihood: 132.7257911.\n",
      "Gradient norm: 0.0005842.\n",
      "Marginal likelihood optimization.\n",
      "('Converged:', True)\n",
      "Time elapsed: 1.24 s\n",
      "Log Marginal Likelihood: 129.0690122.\n",
      "Gradient norm: 0.0009791.\n",
      "Marginal likelihood optimization.\n",
      "('Converged:', True)\n",
      "Time elapsed: 0.57 s\n",
      "Log Marginal Likelihood: 125.3659065.\n",
      "Gradient norm: 0.0000156.\n",
      "Marginal likelihood optimization.\n",
      "('Converged:', True)\n",
      "Time elapsed: 0.49 s\n",
      "Log Marginal Likelihood: 117.3866185.\n",
      "Gradient norm: 0.0000132.\n",
      "Marginal likelihood optimization.\n",
      "('Converged:', True)\n",
      "Time elapsed: 0.54 s\n",
      "Log Marginal Likelihood: 112.2407993.\n",
      "Gradient norm: 0.0003530.\n",
      "Marginal likelihood optimization.\n",
      "('Converged:', True)\n",
      "Time elapsed: 0.23 s\n",
      "Log Marginal Likelihood: 117.1012394.\n",
      "Gradient norm: 0.0002402.\n",
      "Marginal likelihood optimization.\n",
      "('Converged:', True)\n",
      "Time elapsed: 0.27 s\n",
      "Log Marginal Likelihood: 121.8102629.\n",
      "Gradient norm: 0.0008751.\n",
      "Marginal likelihood optimization.\n",
      "('Converged:', True)\n",
      "Time elapsed: 0.39 s\n",
      "Log Marginal Likelihood: 129.0067131.\n",
      "Gradient norm: 0.0000104.\n",
      "Marginal likelihood optimization.\n",
      "('Converged:', True)\n",
      "Time elapsed: 0.76 s\n",
      "Log Marginal Likelihood: 135.8302217.\n",
      "Gradient norm: 0.0003342.\n"
     ]
    }
   ],
   "source": [
    "# running SVCA on the first 5 proteins.\n",
    "# all results are saved in res_dir\n",
    "for prot in range(5):\n",
    "    run_indiv.run(image_dir, prot, res_dir);"
   ]
  },
  {
   "cell_type": "code",
   "execution_count": 6,
   "metadata": {},
   "outputs": [
    {
     "name": "stdout",
     "output_type": "stream",
     "text": [
      "The rpy2.ipython extension is already loaded. To reload it, use:\n",
      "  %reload_ext rpy2.ipython\n"
     ]
    }
   ],
   "source": [
    "# plot the variance signatures to visualise the results\n",
    "%load_ext rpy2.ipython"
   ]
  },
  {
   "cell_type": "code",
   "execution_count": 4,
   "metadata": {},
   "outputs": [
    {
     "name": "stderr",
     "output_type": "stream",
     "text": [
      "/Users/damienarnol1/anaconda/lib/python2.7/site-packages/rpy2/rinterface/__init__.py:186: RRuntimeWarning: Updating HTML index of packages in '.Library'\n",
      "\n",
      "  warnings.warn(x, RRuntimeWarning)\n",
      "/Users/damienarnol1/anaconda/lib/python2.7/site-packages/rpy2/rinterface/__init__.py:186: RRuntimeWarning: Making 'packages.html' ...\n",
      "  warnings.warn(x, RRuntimeWarning)\n",
      "/Users/damienarnol1/anaconda/lib/python2.7/site-packages/rpy2/rinterface/__init__.py:186: RRuntimeWarning:  done\n",
      "\n",
      "  warnings.warn(x, RRuntimeWarning)\n"
     ]
    }
   ],
   "source": [
    "%%R\n",
    "install.packages(\"ggplot2\", repos='http://cran.us.r-project.org', quiet=TRUE)\n",
    "library(ggplot2)"
   ]
  },
  {
   "cell_type": "code",
   "execution_count": 9,
   "metadata": {},
   "outputs": [],
   "source": [
    "%%R -i res_root\n",
    "install.packages(\"pheatmap\", repos='http://cran.us.r-project.org', quiet=TRUE)\n",
    "source('../svca/plot_scripts/visu_signatures_functions.R')\n",
    "# all_res_merged = read_all_signatures(res_root)\n",
    "# plot_sig_bars(all_res_merged)"
   ]
  },
  {
   "cell_type": "code",
   "execution_count": 11,
   "metadata": {},
   "outputs": [
    {
     "name": "stderr",
     "output_type": "stream",
     "text": [
      "/Users/damienarnol1/anaconda/lib/python2.7/site-packages/rpy2/rinterface/__init__.py:186: RRuntimeWarning: Using variance as value column: use value.var to override.\n",
      "\n",
      "  warnings.warn(x, RRuntimeWarning)\n"
     ]
    },
    {
     "data": {
      "image/png": "[encoded data removed]"
     },
     "metadata": {},
     "output_type": "display_data"
    }
   ],
   "source": [
    "%%R -i res_root\n",
    "all_res_merged = read_all_signatures(res_root)\n",
    "plot_sig_bars(all_res_merged)"
   ]
  },
  {
   "cell_type": "code",
   "execution_count": null,
   "metadata": {},
   "outputs": [],
   "source": [
    "plot_sig_bars(all_res_merged)"
   ]
  }
 ],
 "metadata": {
  "anaconda-cloud": {},
  "kernelspec": {
   "display_name": "Python [conda root]",
   "language": "python",
   "name": "conda-root-py"
  },
  "language_info": {
   "codemirror_mode": {
    "name": "ipython",
    "version": 2
   },
   "file_extension": ".py",
   "mimetype": "text/x-python",
   "name": "python",
   "nbconvert_exporter": "python",
   "pygments_lexer": "ipython2",
   "version": "2.7.14"
  }
 },
 "nbformat": 4,
 "nbformat_minor": 1
}
