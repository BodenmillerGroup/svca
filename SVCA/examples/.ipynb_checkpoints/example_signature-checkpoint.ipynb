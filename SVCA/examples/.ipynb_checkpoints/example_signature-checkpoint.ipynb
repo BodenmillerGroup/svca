{
 "cells": [
  {
   "cell_type": "code",
   "execution_count": 1,
   "metadata": {
    "collapsed": false
   },
   "outputs": [],
   "source": [
    "# importing packages\n",
    "from svca.util_functions import util_functions\n",
    "from svca.run import run_indiv\n",
    "import os"
   ]
  },
  {
   "cell_type": "code",
   "execution_count": 2,
   "metadata": {
    "collapsed": false
   },
   "outputs": [],
   "source": [
    "# defining image directory, output directory \n",
    "image_dir = 'data/IMC_example/Cy1x7/'\n",
    "res_root = '/tmp/svca_example/'\n",
    "plot_dir = '/tmp/svca_plot_example'\n",
    "\n",
    "# creating output directories\n",
    "res_dir = util_functions.make_dir(res_root+'/results/')  # this function prevents overwriting directories by incrementing the name if the directory already exists\n",
    "plot_dir = util_functions.make_dir(plot_dir)"
   ]
  },
  {
   "cell_type": "code",
   "execution_count": 4,
   "metadata": {
    "collapsed": false
   },
   "outputs": [
    {
     "name": "stdout",
     "output_type": "stream",
     "text": [
      "Marginal likelihood optimization.\n",
      "('Converged:', True)\n",
      "Time elapsed: 1.77 s\n",
      "Log Marginal Likelihood: 142.7144925.\n",
      "Gradient norm: 0.0023193.\n",
      "Marginal likelihood optimization.\n",
      "('Converged:', True)\n",
      "Time elapsed: 0.84 s\n",
      "Log Marginal Likelihood: 142.2616395.\n",
      "Gradient norm: 0.0002852.\n",
      "Marginal likelihood optimization.\n",
      "('Converged:', True)\n",
      "Time elapsed: 1.36 s\n",
      "Log Marginal Likelihood: 136.7679531.\n",
      "Gradient norm: 0.0000854.\n",
      "Marginal likelihood optimization.\n",
      "('Converged:', True)\n",
      "Time elapsed: 0.49 s\n",
      "Log Marginal Likelihood: 132.1181054.\n",
      "Gradient norm: 0.0002554.\n",
      "Marginal likelihood optimization.\n",
      "('Converged:', True)\n",
      "Time elapsed: 0.55 s\n",
      "Log Marginal Likelihood: 126.3538385.\n",
      "Gradient norm: 0.0000437.\n",
      "Marginal likelihood optimization.\n",
      "Marginal likelihood optimization.\n",
      "('Converged:', True)\n",
      "Time elapsed: 0.77 s\n",
      "Log Marginal Likelihood: 124.6631103.\n",
      "Gradient norm: 0.0007800.\n",
      "Marginal likelihood optimization.\n",
      "('Converged:', True)\n",
      "Time elapsed: 0.49 s\n",
      "Log Marginal Likelihood: 124.9587649.\n",
      "Gradient norm: 0.0000663.\n",
      "Marginal likelihood optimization.\n",
      "('Converged:', True)\n",
      "Time elapsed: 0.47 s\n",
      "Log Marginal Likelihood: 125.7799804.\n",
      "Gradient norm: 0.0001886.\n",
      "Marginal likelihood optimization.\n",
      "('Converged:', True)\n",
      "Time elapsed: 0.46 s\n",
      "Log Marginal Likelihood: 129.0083832.\n",
      "Gradient norm: 0.0004468.\n",
      "Marginal likelihood optimization.\n",
      "('Converged:', True)\n",
      "Time elapsed: 2.21 s\n",
      "Log Marginal Likelihood: 149.9311565.\n",
      "Gradient norm: 0.0021042.\n",
      "Marginal likelihood optimization.\n",
      "('Converged:', True)\n",
      "Time elapsed: 0.73 s\n",
      "Log Marginal Likelihood: 150.0313291.\n",
      "Gradient norm: 0.0015428.\n",
      "Marginal likelihood optimization.\n",
      "('Converged:', True)\n",
      "Time elapsed: 1.29 s\n",
      "Log Marginal Likelihood: 141.2438446.\n",
      "Gradient norm: 0.0050450.\n",
      "Marginal likelihood optimization.\n",
      "('Converged:', True)\n",
      "Time elapsed: 0.30 s\n",
      "Log Marginal Likelihood: 130.5445754.\n",
      "Gradient norm: 0.0001532.\n",
      "Marginal likelihood optimization.\n",
      "('Converged:', True)\n",
      "Time elapsed: 0.49 s\n",
      "Log Marginal Likelihood: 117.9727279.\n",
      "Gradient norm: 0.0000727.\n",
      "Marginal likelihood optimization.\n",
      "Marginal likelihood optimization.\n",
      "('Converged:', True)\n",
      "Time elapsed: 0.24 s\n",
      "Log Marginal Likelihood: 116.2353267.\n",
      "Gradient norm: 0.0017319.\n",
      "Marginal likelihood optimization.\n",
      "('Converged:', True)\n",
      "Time elapsed: 0.26 s\n",
      "Log Marginal Likelihood: 121.8361723.\n",
      "Gradient norm: 0.0013660.\n",
      "Marginal likelihood optimization.\n",
      "('Converged:', True)\n",
      "Time elapsed: 1.27 s\n",
      "Log Marginal Likelihood: 129.3908571.\n",
      "Gradient norm: 0.0002844.\n",
      "Marginal likelihood optimization.\n",
      "('Converged:', True)\n",
      "Time elapsed: 0.46 s\n",
      "Log Marginal Likelihood: 136.6827656.\n",
      "Gradient norm: 0.0009079.\n",
      "Marginal likelihood optimization.\n",
      "('Converged:', True)\n",
      "Time elapsed: 2.63 s\n",
      "Log Marginal Likelihood: 142.5102039.\n",
      "Gradient norm: 0.0026378.\n",
      "Marginal likelihood optimization.\n",
      "('Converged:', True)\n",
      "Time elapsed: 1.02 s\n",
      "Log Marginal Likelihood: 138.1139490.\n",
      "Gradient norm: 0.0018872.\n",
      "Marginal likelihood optimization.\n",
      "('Converged:', True)\n",
      "Time elapsed: 0.68 s\n",
      "Log Marginal Likelihood: 114.9043751.\n",
      "Gradient norm: 0.0002718.\n",
      "Marginal likelihood optimization.\n",
      "('Converged:', True)\n",
      "Time elapsed: 0.32 s\n",
      "Log Marginal Likelihood: 94.6096367.\n",
      "Gradient norm: 0.0000008.\n",
      "Marginal likelihood optimization.\n",
      "Marginal likelihood optimization.\n",
      "('Converged:', True)\n",
      "Time elapsed: 0.20 s\n",
      "Log Marginal Likelihood: 78.0283038.\n",
      "Gradient norm: 0.0018525.\n",
      "Marginal likelihood optimization.\n",
      "('Converged:', True)\n",
      "Time elapsed: 0.27 s\n",
      "Log Marginal Likelihood: 95.3738194.\n",
      "Gradient norm: 0.0001749.\n",
      "Marginal likelihood optimization.\n",
      "('Converged:', True)\n",
      "Time elapsed: 0.24 s\n",
      "Log Marginal Likelihood: 107.1680407.\n",
      "Gradient norm: 0.0001180.\n",
      "Marginal likelihood optimization.\n",
      "('Converged:', True)\n",
      "Time elapsed: 0.54 s\n",
      "Log Marginal Likelihood: 116.1543979.\n",
      "Gradient norm: 0.0000453.\n",
      "Marginal likelihood optimization.\n",
      "('Converged:', True)\n",
      "Time elapsed: 0.57 s\n",
      "Log Marginal Likelihood: 136.4657178.\n",
      "Gradient norm: 0.0004750.\n"
     ]
    }
   ],
   "source": [
    "# running SVCA on the first 3 proteins.\n",
    "# all results are saved in res_dir\n",
    "for prot in range(3):\n",
    "    run_indiv.run(image_dir, prot, res_dir);"
   ]
  },
  {
   "cell_type": "code",
   "execution_count": 1,
   "metadata": {
    "collapsed": false
   },
   "outputs": [
    {
     "ename": "ImportError",
     "evalue": "dlopen(/Users/damienarnol1/anaconda/lib/python2.7/site-packages/rpy2/rinterface/_rinterface.so, 2): Library not loaded: @rpath/libiconv.2.dylib\n  Referenced from: /Users/damienarnol1/anaconda/lib/python2.7/site-packages/rpy2/rinterface/_rinterface.so\n  Reason: Incompatible library version: _rinterface.so requires version 9.0.0 or later, but libiconv.2.dylib provides version 8.0.0",
     "output_type": "error",
     "traceback": [
      "\u001b[0;31m---------------------------------------------------------------------------\u001b[0m",
      "\u001b[0;31mImportError\u001b[0m                               Traceback (most recent call last)",
      "\u001b[0;32m<ipython-input-1-756eab022e11>\u001b[0m in \u001b[0;36m<module>\u001b[0;34m()\u001b[0m\n\u001b[1;32m      1\u001b[0m \u001b[0;31m# plot the variance signatures to visualise the results\u001b[0m\u001b[0;34m\u001b[0m\u001b[0;34m\u001b[0m\u001b[0m\n\u001b[0;32m----> 2\u001b[0;31m \u001b[0mget_ipython\u001b[0m\u001b[0;34m(\u001b[0m\u001b[0;34m)\u001b[0m\u001b[0;34m.\u001b[0m\u001b[0mmagic\u001b[0m\u001b[0;34m(\u001b[0m\u001b[0;34mu'load_ext rpy2.ipython'\u001b[0m\u001b[0;34m)\u001b[0m\u001b[0;34m\u001b[0m\u001b[0m\n\u001b[0m",
      "\u001b[0;32m/Users/damienarnol1/anaconda/lib/python2.7/site-packages/IPython/core/interactiveshell.pyc\u001b[0m in \u001b[0;36mmagic\u001b[0;34m(self, arg_s)\u001b[0m\n\u001b[1;32m   2156\u001b[0m         \u001b[0mmagic_name\u001b[0m\u001b[0;34m,\u001b[0m \u001b[0m_\u001b[0m\u001b[0;34m,\u001b[0m \u001b[0mmagic_arg_s\u001b[0m \u001b[0;34m=\u001b[0m \u001b[0marg_s\u001b[0m\u001b[0;34m.\u001b[0m\u001b[0mpartition\u001b[0m\u001b[0;34m(\u001b[0m\u001b[0;34m' '\u001b[0m\u001b[0;34m)\u001b[0m\u001b[0;34m\u001b[0m\u001b[0m\n\u001b[1;32m   2157\u001b[0m         \u001b[0mmagic_name\u001b[0m \u001b[0;34m=\u001b[0m \u001b[0mmagic_name\u001b[0m\u001b[0;34m.\u001b[0m\u001b[0mlstrip\u001b[0m\u001b[0;34m(\u001b[0m\u001b[0mprefilter\u001b[0m\u001b[0;34m.\u001b[0m\u001b[0mESC_MAGIC\u001b[0m\u001b[0;34m)\u001b[0m\u001b[0;34m\u001b[0m\u001b[0m\n\u001b[0;32m-> 2158\u001b[0;31m         \u001b[0;32mreturn\u001b[0m \u001b[0mself\u001b[0m\u001b[0;34m.\u001b[0m\u001b[0mrun_line_magic\u001b[0m\u001b[0;34m(\u001b[0m\u001b[0mmagic_name\u001b[0m\u001b[0;34m,\u001b[0m \u001b[0mmagic_arg_s\u001b[0m\u001b[0;34m)\u001b[0m\u001b[0;34m\u001b[0m\u001b[0m\n\u001b[0m\u001b[1;32m   2159\u001b[0m \u001b[0;34m\u001b[0m\u001b[0m\n\u001b[1;32m   2160\u001b[0m     \u001b[0;31m#-------------------------------------------------------------------------\u001b[0m\u001b[0;34m\u001b[0m\u001b[0;34m\u001b[0m\u001b[0m\n",
      "\u001b[0;32m/Users/damienarnol1/anaconda/lib/python2.7/site-packages/IPython/core/interactiveshell.pyc\u001b[0m in \u001b[0;36mrun_line_magic\u001b[0;34m(self, magic_name, line)\u001b[0m\n\u001b[1;32m   2077\u001b[0m                 \u001b[0mkwargs\u001b[0m\u001b[0;34m[\u001b[0m\u001b[0;34m'local_ns'\u001b[0m\u001b[0;34m]\u001b[0m \u001b[0;34m=\u001b[0m \u001b[0msys\u001b[0m\u001b[0;34m.\u001b[0m\u001b[0m_getframe\u001b[0m\u001b[0;34m(\u001b[0m\u001b[0mstack_depth\u001b[0m\u001b[0;34m)\u001b[0m\u001b[0;34m.\u001b[0m\u001b[0mf_locals\u001b[0m\u001b[0;34m\u001b[0m\u001b[0m\n\u001b[1;32m   2078\u001b[0m             \u001b[0;32mwith\u001b[0m \u001b[0mself\u001b[0m\u001b[0;34m.\u001b[0m\u001b[0mbuiltin_trap\u001b[0m\u001b[0;34m:\u001b[0m\u001b[0;34m\u001b[0m\u001b[0m\n\u001b[0;32m-> 2079\u001b[0;31m                 \u001b[0mresult\u001b[0m \u001b[0;34m=\u001b[0m \u001b[0mfn\u001b[0m\u001b[0;34m(\u001b[0m\u001b[0;34m*\u001b[0m\u001b[0margs\u001b[0m\u001b[0;34m,\u001b[0m\u001b[0;34m**\u001b[0m\u001b[0mkwargs\u001b[0m\u001b[0;34m)\u001b[0m\u001b[0;34m\u001b[0m\u001b[0m\n\u001b[0m\u001b[1;32m   2080\u001b[0m             \u001b[0;32mreturn\u001b[0m \u001b[0mresult\u001b[0m\u001b[0;34m\u001b[0m\u001b[0m\n\u001b[1;32m   2081\u001b[0m \u001b[0;34m\u001b[0m\u001b[0m\n",
      "\u001b[0;32m<decorator-gen-62>\u001b[0m in \u001b[0;36mload_ext\u001b[0;34m(self, module_str)\u001b[0m\n",
      "\u001b[0;32m/Users/damienarnol1/anaconda/lib/python2.7/site-packages/IPython/core/magic.pyc\u001b[0m in \u001b[0;36m<lambda>\u001b[0;34m(f, *a, **k)\u001b[0m\n\u001b[1;32m    186\u001b[0m     \u001b[0;31m# but it's overkill for just that one bit of state.\u001b[0m\u001b[0;34m\u001b[0m\u001b[0;34m\u001b[0m\u001b[0m\n\u001b[1;32m    187\u001b[0m     \u001b[0;32mdef\u001b[0m \u001b[0mmagic_deco\u001b[0m\u001b[0;34m(\u001b[0m\u001b[0marg\u001b[0m\u001b[0;34m)\u001b[0m\u001b[0;34m:\u001b[0m\u001b[0;34m\u001b[0m\u001b[0m\n\u001b[0;32m--> 188\u001b[0;31m         \u001b[0mcall\u001b[0m \u001b[0;34m=\u001b[0m \u001b[0;32mlambda\u001b[0m \u001b[0mf\u001b[0m\u001b[0;34m,\u001b[0m \u001b[0;34m*\u001b[0m\u001b[0ma\u001b[0m\u001b[0;34m,\u001b[0m \u001b[0;34m**\u001b[0m\u001b[0mk\u001b[0m\u001b[0;34m:\u001b[0m \u001b[0mf\u001b[0m\u001b[0;34m(\u001b[0m\u001b[0;34m*\u001b[0m\u001b[0ma\u001b[0m\u001b[0;34m,\u001b[0m \u001b[0;34m**\u001b[0m\u001b[0mk\u001b[0m\u001b[0;34m)\u001b[0m\u001b[0;34m\u001b[0m\u001b[0m\n\u001b[0m\u001b[1;32m    189\u001b[0m \u001b[0;34m\u001b[0m\u001b[0m\n\u001b[1;32m    190\u001b[0m         \u001b[0;32mif\u001b[0m \u001b[0mcallable\u001b[0m\u001b[0;34m(\u001b[0m\u001b[0marg\u001b[0m\u001b[0;34m)\u001b[0m\u001b[0;34m:\u001b[0m\u001b[0;34m\u001b[0m\u001b[0m\n",
      "\u001b[0;32m/Users/damienarnol1/anaconda/lib/python2.7/site-packages/IPython/core/magics/extension.pyc\u001b[0m in \u001b[0;36mload_ext\u001b[0;34m(self, module_str)\u001b[0m\n\u001b[1;32m     35\u001b[0m         \u001b[0;32mif\u001b[0m \u001b[0;32mnot\u001b[0m \u001b[0mmodule_str\u001b[0m\u001b[0;34m:\u001b[0m\u001b[0;34m\u001b[0m\u001b[0m\n\u001b[1;32m     36\u001b[0m             \u001b[0;32mraise\u001b[0m \u001b[0mUsageError\u001b[0m\u001b[0;34m(\u001b[0m\u001b[0;34m'Missing module name.'\u001b[0m\u001b[0;34m)\u001b[0m\u001b[0;34m\u001b[0m\u001b[0m\n\u001b[0;32m---> 37\u001b[0;31m         \u001b[0mres\u001b[0m \u001b[0;34m=\u001b[0m \u001b[0mself\u001b[0m\u001b[0;34m.\u001b[0m\u001b[0mshell\u001b[0m\u001b[0;34m.\u001b[0m\u001b[0mextension_manager\u001b[0m\u001b[0;34m.\u001b[0m\u001b[0mload_extension\u001b[0m\u001b[0;34m(\u001b[0m\u001b[0mmodule_str\u001b[0m\u001b[0;34m)\u001b[0m\u001b[0;34m\u001b[0m\u001b[0m\n\u001b[0m\u001b[1;32m     38\u001b[0m \u001b[0;34m\u001b[0m\u001b[0m\n\u001b[1;32m     39\u001b[0m         \u001b[0;32mif\u001b[0m \u001b[0mres\u001b[0m \u001b[0;34m==\u001b[0m \u001b[0;34m'already loaded'\u001b[0m\u001b[0;34m:\u001b[0m\u001b[0;34m\u001b[0m\u001b[0m\n",
      "\u001b[0;32m/Users/damienarnol1/anaconda/lib/python2.7/site-packages/IPython/core/extensions.pyc\u001b[0m in \u001b[0;36mload_extension\u001b[0;34m(self, module_str)\u001b[0m\n\u001b[1;32m     81\u001b[0m             \u001b[0;32mif\u001b[0m \u001b[0mmodule_str\u001b[0m \u001b[0;32mnot\u001b[0m \u001b[0;32min\u001b[0m \u001b[0msys\u001b[0m\u001b[0;34m.\u001b[0m\u001b[0mmodules\u001b[0m\u001b[0;34m:\u001b[0m\u001b[0;34m\u001b[0m\u001b[0m\n\u001b[1;32m     82\u001b[0m                 \u001b[0;32mwith\u001b[0m \u001b[0mprepended_to_syspath\u001b[0m\u001b[0;34m(\u001b[0m\u001b[0mself\u001b[0m\u001b[0;34m.\u001b[0m\u001b[0mipython_extension_dir\u001b[0m\u001b[0;34m)\u001b[0m\u001b[0;34m:\u001b[0m\u001b[0;34m\u001b[0m\u001b[0m\n\u001b[0;32m---> 83\u001b[0;31m                     \u001b[0m__import__\u001b[0m\u001b[0;34m(\u001b[0m\u001b[0mmodule_str\u001b[0m\u001b[0;34m)\u001b[0m\u001b[0;34m\u001b[0m\u001b[0m\n\u001b[0m\u001b[1;32m     84\u001b[0m             \u001b[0mmod\u001b[0m \u001b[0;34m=\u001b[0m \u001b[0msys\u001b[0m\u001b[0;34m.\u001b[0m\u001b[0mmodules\u001b[0m\u001b[0;34m[\u001b[0m\u001b[0mmodule_str\u001b[0m\u001b[0;34m]\u001b[0m\u001b[0;34m\u001b[0m\u001b[0m\n\u001b[1;32m     85\u001b[0m             \u001b[0;32mif\u001b[0m \u001b[0mself\u001b[0m\u001b[0;34m.\u001b[0m\u001b[0m_call_load_ipython_extension\u001b[0m\u001b[0;34m(\u001b[0m\u001b[0mmod\u001b[0m\u001b[0;34m)\u001b[0m\u001b[0;34m:\u001b[0m\u001b[0;34m\u001b[0m\u001b[0m\n",
      "\u001b[0;32m/Users/damienarnol1/anaconda/lib/python2.7/site-packages/rpy2/ipython/__init__.py\u001b[0m in \u001b[0;36m<module>\u001b[0;34m()\u001b[0m\n\u001b[0;32m----> 1\u001b[0;31m \u001b[0;32mfrom\u001b[0m \u001b[0;34m.\u001b[0m\u001b[0mrmagic\u001b[0m \u001b[0;32mimport\u001b[0m \u001b[0mload_ipython_extension\u001b[0m\u001b[0;34m\u001b[0m\u001b[0m\n\u001b[0m",
      "\u001b[0;32m/Users/damienarnol1/anaconda/lib/python2.7/site-packages/rpy2/ipython/rmagic.py\u001b[0m in \u001b[0;36m<module>\u001b[0;34m()\u001b[0m\n\u001b[1;32m     50\u001b[0m \u001b[0;31m# numpy and rpy2 imports\u001b[0m\u001b[0;34m\u001b[0m\u001b[0;34m\u001b[0m\u001b[0m\n\u001b[1;32m     51\u001b[0m \u001b[0;34m\u001b[0m\u001b[0m\n\u001b[0;32m---> 52\u001b[0;31m \u001b[0;32mimport\u001b[0m \u001b[0mrpy2\u001b[0m\u001b[0;34m.\u001b[0m\u001b[0mrinterface\u001b[0m \u001b[0;32mas\u001b[0m \u001b[0mri\u001b[0m\u001b[0;34m\u001b[0m\u001b[0m\n\u001b[0m\u001b[1;32m     53\u001b[0m \u001b[0;32mimport\u001b[0m \u001b[0mrpy2\u001b[0m\u001b[0;34m.\u001b[0m\u001b[0mrobjects\u001b[0m \u001b[0;32mas\u001b[0m \u001b[0mro\u001b[0m\u001b[0;34m\u001b[0m\u001b[0m\n\u001b[1;32m     54\u001b[0m \u001b[0;32mimport\u001b[0m \u001b[0mrpy2\u001b[0m\u001b[0;34m.\u001b[0m\u001b[0mrobjects\u001b[0m\u001b[0;34m.\u001b[0m\u001b[0mpackages\u001b[0m \u001b[0;32mas\u001b[0m \u001b[0mrpacks\u001b[0m\u001b[0;34m\u001b[0m\u001b[0m\n",
      "\u001b[0;32m/Users/damienarnol1/anaconda/lib/python2.7/site-packages/rpy2/rinterface/__init__.py\u001b[0m in \u001b[0;36m<module>\u001b[0;34m()\u001b[0m\n\u001b[1;32m     90\u001b[0m \u001b[0;32mdel\u001b[0m\u001b[0;34m(\u001b[0m\u001b[0mos\u001b[0m\u001b[0;34m)\u001b[0m\u001b[0;34m\u001b[0m\u001b[0m\n\u001b[1;32m     91\u001b[0m \u001b[0;34m\u001b[0m\u001b[0m\n\u001b[0;32m---> 92\u001b[0;31m from rpy2.rinterface._rinterface import (baseenv,\n\u001b[0m\u001b[1;32m     93\u001b[0m                                          \u001b[0memptyenv\u001b[0m\u001b[0;34m,\u001b[0m\u001b[0;34m\u001b[0m\u001b[0m\n\u001b[1;32m     94\u001b[0m                                          \u001b[0mendr\u001b[0m\u001b[0;34m,\u001b[0m\u001b[0;34m\u001b[0m\u001b[0m\n",
      "\u001b[0;31mImportError\u001b[0m: dlopen(/Users/damienarnol1/anaconda/lib/python2.7/site-packages/rpy2/rinterface/_rinterface.so, 2): Library not loaded: @rpath/libiconv.2.dylib\n  Referenced from: /Users/damienarnol1/anaconda/lib/python2.7/site-packages/rpy2/rinterface/_rinterface.so\n  Reason: Incompatible library version: _rinterface.so requires version 9.0.0 or later, but libiconv.2.dylib provides version 8.0.0"
     ]
    }
   ],
   "source": [
    "# plot the variance signatures to visualise the results\n",
    "%load_ext rpy2.ipython\n",
    " "
   ]
  },
  {
   "cell_type": "code",
   "execution_count": null,
   "metadata": {
    "collapsed": true
   },
   "outputs": [],
   "source": [
    "%%R -i res_root\n",
    "source('../svca/plot_scripts/visu_signatures_functions.R')\n",
    "all_res_merged = read_all_signatures(res_root)\n",
    "plot_sig_bars(all_res_merged)"
   ]
  }
 ],
 "metadata": {
  "anaconda-cloud": {},
  "kernelspec": {
   "display_name": "Python [conda root]",
   "language": "python",
   "name": "conda-root-py"
  },
  "language_info": {
   "codemirror_mode": {
    "name": "ipython",
    "version": 2
   },
   "file_extension": ".py",
   "mimetype": "text/x-python",
   "name": "python",
   "nbconvert_exporter": "python",
   "pygments_lexer": "ipython2",
   "version": "2.7.14"
  }
 },
 "nbformat": 4,
 "nbformat_minor": 1
}
